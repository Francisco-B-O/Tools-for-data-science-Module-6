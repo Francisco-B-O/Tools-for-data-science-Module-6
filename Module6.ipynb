{
 "cells": [
  {
   "cell_type": "markdown",
   "metadata": {},
   "source": [
    "## Introduction\n",
    "In this notebook, the concepts and tools learned in the Data Science course are presented. Jupyterlite Notebook will be used to create a notebook that shows the acquired knowledge.\n",
    "## Data Science Languages\n",
    "* Python\n",
    "* R\n",
    "* SQL\n",
    "## Data Science Libraries\n",
    "* NumPy\n",
    "* Pandas\n",
    "* Matplotlib\n",
    "* Scikit-learn\n",
    "* TensorFlow\n",
    "\n",
    "## Data Science Tools\n",
    "| Tool | Description |\n",
    "| --- | --- |\n",
    "| Jupyter Notebook | Interactive development environment |\n",
    "| GitHub | Version control platform |\n",
    "| Python | Programming language |\n",
    "| R | Programming language |\n",
    "\n",
    "## Arithmetic Expressions\n",
    "Arithmetic expressions are operations performed with numbers, such as additions, subtractions, multiplications, and divisions. Examples: 2 + 2, 5 * 3, 10 / 2.\n",
    "\n",
    "# Multiply and add numbers\n",
    "num1 = 5\n",
    "num2 = 3\n",
    "result = num1 * num2 + 2\n",
    "print(result)\n",
    "\n",
    "# Convert minutes to hours\n",
    "minutes = 120\n",
    "hours = minutes / 60\n",
    "print(hours)\n",
    "\n",
    "# List objectives\n",
    "objectives = [\"Learn Python\", \"Learn R\", \"Learn SQL\"]\n",
    "for objective in objectives:\n",
    "    print(objective)\n",
    "\n",
    "## Author\n",
    "Francisco Balonero Olivera"
   ]
  }
 ],
 "metadata": {
  "language_info": {
   "name": "python"
  }
 },
 "nbformat": 4,
 "nbformat_minor": 2
}
